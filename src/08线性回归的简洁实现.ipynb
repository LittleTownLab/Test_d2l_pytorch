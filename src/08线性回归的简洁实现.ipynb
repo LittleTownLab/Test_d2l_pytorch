{
 "cells": [
  {
   "cell_type": "code",
   "execution_count": 5,
   "source": [
    "import numpy as np\r\n",
    "import torch\r\n",
    "from torch.utils import data\r\n",
    "from d2l import torch as d2l\r\n",
    "from torch import nn"
   ],
   "outputs": [],
   "metadata": {
    "collapsed": true
   }
  },
  {
   "cell_type": "code",
   "execution_count": null,
   "source": [
    "print(\"hello\")"
   ],
   "outputs": [],
   "metadata": {}
  },
  {
   "cell_type": "code",
   "execution_count": 4,
   "source": [
    "true_w = torch.tensor([2, -3.4])\r\n",
    "true_b = 4.2\r\n",
    "features, labels = d2l.synthetic_data(true_w, true_b, 1000)\r\n",
    "\r\n",
    "def load_array(data_arrays, batch_size, is_train=True):\r\n",
    "    dataset = data.TensorDataset(*data_arrays)\r\n",
    "    return data.DataLoader(dataset, batch_size, shuffle=is_train)\r\n",
    "\r\n",
    "batch_size = 10\r\n",
    "data_iter = load_array((features, labels), batch_size)\r\n",
    "\r\n",
    "next(iter(data_iter))"
   ],
   "outputs": [],
   "metadata": {
    "collapsed": false,
    "pycharm": {
     "name": "#%%\n"
    }
   }
  },
  {
   "cell_type": "code",
   "execution_count": null,
   "source": [
    "net = nn.Sequential(nn.Linear(2, 1))\r\n",
    "net[0].weight.data.normal_(0, 0.01)"
   ],
   "outputs": [],
   "metadata": {
    "collapsed": false,
    "pycharm": {
     "name": "#%%\n"
    }
   }
  }
 ],
 "metadata": {
  "kernelspec": {
   "display_name": "Python 3",
   "language": "python",
   "name": "python3"
  },
  "language_info": {
   "codemirror_mode": {
    "name": "ipython",
    "version": 2
   },
   "file_extension": ".py",
   "mimetype": "text/x-python",
   "name": "python",
   "nbconvert_exporter": "python",
   "pygments_lexer": "ipython2",
   "version": "2.7.6"
  }
 },
 "nbformat": 4,
 "nbformat_minor": 2
}